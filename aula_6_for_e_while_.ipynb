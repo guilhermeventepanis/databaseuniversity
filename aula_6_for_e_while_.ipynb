{
  "nbformat": 4,
  "nbformat_minor": 0,
  "metadata": {
    "colab": {
      "provenance": [],
      "authorship_tag": "ABX9TyMVdyFNsIapg2YB44LQQk6k",
      "include_colab_link": true
    },
    "kernelspec": {
      "name": "python3",
      "display_name": "Python 3"
    },
    "language_info": {
      "name": "python"
    }
  },
  "cells": [
    {
      "cell_type": "markdown",
      "metadata": {
        "id": "view-in-github",
        "colab_type": "text"
      },
      "source": [
        "<a href=\"https://colab.research.google.com/github/guilhermeventepanis/databaseuniversity/blob/main/aula_6_for_e_while_.ipynb\" target=\"_parent\"><img src=\"https://colab.research.google.com/assets/colab-badge.svg\" alt=\"Open In Colab\"/></a>"
      ]
    },
    {
      "cell_type": "code",
      "execution_count": null,
      "metadata": {
        "id": "VPlC3hHL38F0",
        "colab": {
          "base_uri": "https://localhost:8080/"
        },
        "outputId": "ecff3e2b-a07d-4f31-d4fe-89b34c568749"
      },
      "outputs": [
        {
          "output_type": "stream",
          "name": "stdout",
          "text": [
            "0\n",
            "1\n",
            "2\n",
            "3\n",
            "4\n",
            "5\n",
            "6\n",
            "7\n",
            "8\n",
            "9\n"
          ]
        }
      ],
      "source": [
        "\n",
        "for i in range (10):\n",
        "  print(i)"
      ]
    },
    {
      "cell_type": "code",
      "source": [
        "for i in [0,1,2,3,4,5,6,7,8,9]:\n",
        "  print(i)"
      ],
      "metadata": {
        "colab": {
          "base_uri": "https://localhost:8080/"
        },
        "id": "BYWPcIU2aMo1",
        "outputId": "abfd988c-89bc-484d-b5bd-cef0500e6823"
      },
      "execution_count": null,
      "outputs": [
        {
          "output_type": "stream",
          "name": "stdout",
          "text": [
            "0\n",
            "1\n",
            "2\n",
            "3\n",
            "4\n",
            "5\n",
            "6\n",
            "7\n",
            "8\n",
            "9\n"
          ]
        }
      ]
    },
    {
      "cell_type": "code",
      "source": [
        "for i in 'texto':\n",
        "  print(i)"
      ],
      "metadata": {
        "colab": {
          "base_uri": "https://localhost:8080/"
        },
        "id": "6yDXAG48apL0",
        "outputId": "51ab7d8b-6afb-44f3-83eb-2fad3dd78ac2"
      },
      "execution_count": null,
      "outputs": [
        {
          "output_type": "stream",
          "name": "stdout",
          "text": [
            "t\n",
            "e\n",
            "x\n",
            "t\n",
            "o\n"
          ]
        }
      ]
    },
    {
      "cell_type": "code",
      "source": [
        "for nome in 'daniel':\n",
        "  print(nome)"
      ],
      "metadata": {
        "colab": {
          "base_uri": "https://localhost:8080/"
        },
        "id": "P1PmTusza4bo",
        "outputId": "d76b7da5-c1cd-441b-d8a1-618c035ad200"
      },
      "execution_count": null,
      "outputs": [
        {
          "output_type": "stream",
          "name": "stdout",
          "text": [
            "d\n",
            "a\n",
            "n\n",
            "i\n",
            "e\n",
            "l\n"
          ]
        }
      ]
    },
    {
      "cell_type": "markdown",
      "source": [
        "while"
      ],
      "metadata": {
        "id": "G3YWuooqccTm"
      }
    },
    {
      "cell_type": "code",
      "source": [
        "print ('quanto 2 + 2?')\n",
        "valor = int(input('digite um valor: '))\n",
        "\n",
        "while valor != 4:\n",
        "  print('Eroooooooouuuuuuuuu')\n",
        "  print('quanto é 2 + 2 ?')\n",
        "  valor = int(input('digite um valor: '))\n",
        "else:\n",
        "  print('certa a respota')"
      ],
      "metadata": {
        "id": "7fMNw_6FceAZ"
      },
      "execution_count": null,
      "outputs": []
    },
    {
      "cell_type": "code",
      "source": [
        "i = 0\n",
        "\n",
        "while i < 100:\n",
        "  print(i)\n",
        "  i+=1\n",
        "print(i)"
      ],
      "metadata": {
        "id": "bn08nKloepRF"
      },
      "execution_count": null,
      "outputs": []
    },
    {
      "cell_type": "code",
      "source": [
        "print('digite a senha')\n",
        "senha = input('')\n",
        "\n",
        "while senha != 'batata':\n",
        "  print('senha incorreta, tente novamente')\n",
        "  senha = input('')\n",
        "else:\n",
        "  print('acesso liberado')"
      ],
      "metadata": {
        "id": "nYtNSsXTgHGf"
      },
      "execution_count": null,
      "outputs": []
    },
    {
      "cell_type": "code",
      "source": [
        "import time\n",
        "\n",
        "print('este programa vai executar para sempre! ')\n",
        "i = 0\n",
        "\n",
        "while True:\n",
        "  print('numero de ciclos' + str(i))\n",
        "  i += 1\n",
        "  time.sleep(1)"
      ],
      "metadata": {
        "id": "l5qwUykkh7Ti"
      },
      "execution_count": null,
      "outputs": []
    },
    {
      "cell_type": "code",
      "source": [
        "for number in range(10):\n",
        "  if number == 7:\n",
        "    continue\n",
        "  print(number)"
      ],
      "metadata": {
        "id": "rWVzL9yyjMnt"
      },
      "execution_count": null,
      "outputs": []
    },
    {
      "cell_type": "code",
      "source": [
        "for letra in 'esse texto aqui tem um x e não tem mais':\n",
        "  if letra == 'x':\n",
        "    break\n",
        "  print(letra)"
      ],
      "metadata": {
        "id": "nsV_L6USky6q"
      },
      "execution_count": null,
      "outputs": []
    },
    {
      "cell_type": "code",
      "source": [
        "for letra in 'esse texto aqui tem um x e não tem mais':\n",
        "  if letra == 'x':\n",
        "    continue\n",
        "  print(letra)"
      ],
      "metadata": {
        "id": "Ze4EI3rVmiAT"
      },
      "execution_count": null,
      "outputs": []
    },
    {
      "cell_type": "code",
      "source": [
        "for letra in 'esse texto aqui tem um x e não tem mais':\n",
        "  if letra == 'x':\n",
        "    break\n",
        "  print(letra)"
      ],
      "metadata": {
        "id": "_ObXsUKwmnyr"
      },
      "execution_count": null,
      "outputs": []
    },
    {
      "cell_type": "code",
      "source": [
        "from ast import Num\n",
        "import random\n",
        "\n",
        "numero_aleatorio =random.randint(1,10000)\n",
        "print(numero_aleatorio)\n",
        "\n",
        "numero = int(input('digite um numero: '))\n",
        "\n",
        "tentativas = 10\n",
        "\n",
        "for tentativa in range(10):\n",
        "  numero = int(input('digite um numero: '))\n",
        "  print('tentativa {}'.format(tentativas - tentativa))\n",
        "\n",
        "  if numero == numero_aleatorio:\n",
        "    print('parabens voce acertou !!!')\n",
        "    break\n",
        "\n",
        "  elif numero < numero_aleatorio:\n",
        "    print('o numero é maior')\n",
        "    numero = int(input('voce errou, digite um numero: '))\n",
        "\n",
        "  elif numero > numero_aleatorio:\n",
        "    print('o numero é menor')\n",
        "    numero = int(input('voce errou, digite um numero: '))\n",
        "\n",
        "  else:\n",
        "    print('seu numero aleatorio é {}'.format(numero_aleatorio))\n",
        "\n",
        "\n"
      ],
      "metadata": {
        "id": "bc7tsgyFIlXT",
        "colab": {
          "base_uri": "https://localhost:8080/",
          "height": 425
        },
        "outputId": "b1e20a21-4b7e-4360-a12a-b710e0f25f79"
      },
      "execution_count": null,
      "outputs": [
        {
          "name": "stdout",
          "output_type": "stream",
          "text": [
            "3229\n",
            "digite um numero: 2\n"
          ]
        },
        {
          "output_type": "error",
          "ename": "KeyboardInterrupt",
          "evalue": "ignored",
          "traceback": [
            "\u001b[0;31m---------------------------------------------------------------------------\u001b[0m",
            "\u001b[0;31mKeyboardInterrupt\u001b[0m                         Traceback (most recent call last)",
            "\u001b[0;32m<ipython-input-1-b1d328c23ade>\u001b[0m in \u001b[0;36m<cell line: 11>\u001b[0;34m()\u001b[0m\n\u001b[1;32m     10\u001b[0m \u001b[0;34m\u001b[0m\u001b[0m\n\u001b[1;32m     11\u001b[0m \u001b[0;32mfor\u001b[0m \u001b[0mtentativa\u001b[0m \u001b[0;32min\u001b[0m \u001b[0mrange\u001b[0m\u001b[0;34m(\u001b[0m\u001b[0;36m10\u001b[0m\u001b[0;34m)\u001b[0m\u001b[0;34m:\u001b[0m\u001b[0;34m\u001b[0m\u001b[0;34m\u001b[0m\u001b[0m\n\u001b[0;32m---> 12\u001b[0;31m   \u001b[0mnumero\u001b[0m \u001b[0;34m=\u001b[0m \u001b[0mint\u001b[0m\u001b[0;34m(\u001b[0m\u001b[0minput\u001b[0m\u001b[0;34m(\u001b[0m\u001b[0;34m'digite um numero: '\u001b[0m\u001b[0;34m)\u001b[0m\u001b[0;34m)\u001b[0m\u001b[0;34m\u001b[0m\u001b[0;34m\u001b[0m\u001b[0m\n\u001b[0m\u001b[1;32m     13\u001b[0m   \u001b[0mprint\u001b[0m\u001b[0;34m(\u001b[0m\u001b[0;34m'tentativa {}'\u001b[0m\u001b[0;34m.\u001b[0m\u001b[0mformat\u001b[0m\u001b[0;34m(\u001b[0m\u001b[0mtentativas\u001b[0m \u001b[0;34m-\u001b[0m \u001b[0mtentativa\u001b[0m\u001b[0;34m)\u001b[0m\u001b[0;34m)\u001b[0m\u001b[0;34m\u001b[0m\u001b[0;34m\u001b[0m\u001b[0m\n\u001b[1;32m     14\u001b[0m \u001b[0;34m\u001b[0m\u001b[0m\n",
            "\u001b[0;32m/usr/local/lib/python3.10/dist-packages/ipykernel/kernelbase.py\u001b[0m in \u001b[0;36mraw_input\u001b[0;34m(self, prompt)\u001b[0m\n\u001b[1;32m    849\u001b[0m                 \u001b[0;34m\"raw_input was called, but this frontend does not support input requests.\"\u001b[0m\u001b[0;34m\u001b[0m\u001b[0;34m\u001b[0m\u001b[0m\n\u001b[1;32m    850\u001b[0m             )\n\u001b[0;32m--> 851\u001b[0;31m         return self._input_request(str(prompt),\n\u001b[0m\u001b[1;32m    852\u001b[0m             \u001b[0mself\u001b[0m\u001b[0;34m.\u001b[0m\u001b[0m_parent_ident\u001b[0m\u001b[0;34m,\u001b[0m\u001b[0;34m\u001b[0m\u001b[0;34m\u001b[0m\u001b[0m\n\u001b[1;32m    853\u001b[0m             \u001b[0mself\u001b[0m\u001b[0;34m.\u001b[0m\u001b[0m_parent_header\u001b[0m\u001b[0;34m,\u001b[0m\u001b[0;34m\u001b[0m\u001b[0;34m\u001b[0m\u001b[0m\n",
            "\u001b[0;32m/usr/local/lib/python3.10/dist-packages/ipykernel/kernelbase.py\u001b[0m in \u001b[0;36m_input_request\u001b[0;34m(self, prompt, ident, parent, password)\u001b[0m\n\u001b[1;32m    893\u001b[0m             \u001b[0;32mexcept\u001b[0m \u001b[0mKeyboardInterrupt\u001b[0m\u001b[0;34m:\u001b[0m\u001b[0;34m\u001b[0m\u001b[0;34m\u001b[0m\u001b[0m\n\u001b[1;32m    894\u001b[0m                 \u001b[0;31m# re-raise KeyboardInterrupt, to truncate traceback\u001b[0m\u001b[0;34m\u001b[0m\u001b[0;34m\u001b[0m\u001b[0m\n\u001b[0;32m--> 895\u001b[0;31m                 \u001b[0;32mraise\u001b[0m \u001b[0mKeyboardInterrupt\u001b[0m\u001b[0;34m(\u001b[0m\u001b[0;34m\"Interrupted by user\"\u001b[0m\u001b[0;34m)\u001b[0m \u001b[0;32mfrom\u001b[0m \u001b[0;32mNone\u001b[0m\u001b[0;34m\u001b[0m\u001b[0;34m\u001b[0m\u001b[0m\n\u001b[0m\u001b[1;32m    896\u001b[0m             \u001b[0;32mexcept\u001b[0m \u001b[0mException\u001b[0m \u001b[0;32mas\u001b[0m \u001b[0me\u001b[0m\u001b[0;34m:\u001b[0m\u001b[0;34m\u001b[0m\u001b[0;34m\u001b[0m\u001b[0m\n\u001b[1;32m    897\u001b[0m                 \u001b[0mself\u001b[0m\u001b[0;34m.\u001b[0m\u001b[0mlog\u001b[0m\u001b[0;34m.\u001b[0m\u001b[0mwarning\u001b[0m\u001b[0;34m(\u001b[0m\u001b[0;34m\"Invalid Message:\"\u001b[0m\u001b[0;34m,\u001b[0m \u001b[0mexc_info\u001b[0m\u001b[0;34m=\u001b[0m\u001b[0;32mTrue\u001b[0m\u001b[0;34m)\u001b[0m\u001b[0;34m\u001b[0m\u001b[0;34m\u001b[0m\u001b[0m\n",
            "\u001b[0;31mKeyboardInterrupt\u001b[0m: Interrupted by user"
          ]
        }
      ]
    },
    {
      "cell_type": "code",
      "source": [
        "import random as rd\n",
        "\n",
        "print('jogo do dado')\n",
        "print('serão dois dados de 1 até 6, sendo que ele mostrara a soma!')\n",
        "\n",
        "usuario = int(input('Digite um numero de vezes: '))\n",
        "\n",
        "for giro in range(usuario):\n",
        "  dado1 = rd.randint(1,6)\n",
        "  dado2 = rd.randint(1,6)\n",
        "  soma = dado1 + dado2\n",
        "\n",
        "  if soma == 2:\n",
        "    print('caiu  no numero 2, {} vezes'.format(giro + 1))\n",
        "\n",
        "  elif soma == 3:\n",
        "    vezes = giro + 1\n",
        "    print('caiu  no numero 3,  {} vezes'.format(vezes))\n",
        "\n",
        "  elif soma == 4:\n",
        "    vezes = giro + 1\n",
        "    print('caiu  no numero 4,  {} vezes'.format(vezes))\n",
        "\n",
        "  elif soma == 5:\n",
        "    vezes = giro + 1\n",
        "    print('caiu  no numero 5,  {} vezes'.format(vezes))\n",
        "\n",
        "  elif soma == 6:\n",
        "    vezes = giro + 1\n",
        "    print('caiu  no numero 6, {} vezes'.format(vezes))\n",
        "\n",
        "  elif soma == 7:\n",
        "    vezes = giro + 1\n",
        "    print('caiu  no numero 7,  {} vezes'.format(vezes))\n",
        "\n",
        "  elif soma == 8:\n",
        "    vezes = giro + 1\n",
        "    print('caiu  no numero 8,  {} vezes'.format(vezes))\n",
        "\n",
        "  elif soma == 9:\n",
        "    vezes = giro + 1\n",
        "    print('caiu  no numero 9,  {} vezes'.format(vezes))\n",
        "\n",
        "  elif soma == 10:\n",
        "    vezes = giro + 1\n",
        "    print('caiu  no numero 10,  {} vezes'.format(vezes))\n",
        "\n",
        "  elif soma == 11:\n",
        "    vezes = giro + 1\n",
        "    print('caiu  no numero 11,  {} vezes'.format(vezes))\n",
        "\n",
        "  elif soma == 12:\n",
        "    vezes = giro + 1\n",
        "    print('caiu  no numero 12,  {} vezes'.format(vezes))\n"
      ],
      "metadata": {
        "colab": {
          "base_uri": "https://localhost:8080/"
        },
        "id": "ykus7FBiMaLk",
        "outputId": "e66814a6-10e8-407f-f6a6-0ec4446c9805"
      },
      "execution_count": 1,
      "outputs": [
        {
          "output_type": "stream",
          "name": "stdout",
          "text": [
            "jogo do dado\n",
            "serão dois dados de 1 até 6, sendo que ele mostrara a soma!\n",
            "Digite um numero de vezes: 6\n",
            "caiu  no numero 9,  1 vezes\n",
            "caiu  no numero 6, 2 vezes\n",
            "caiu  no numero 3,  3 vezes\n",
            "caiu  no numero 4,  4 vezes\n",
            "caiu  no numero 12,  5 vezes\n",
            "caiu  no numero 9,  6 vezes\n"
          ]
        }
      ]
    }
  ]
}