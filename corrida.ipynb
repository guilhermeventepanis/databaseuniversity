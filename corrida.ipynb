{
  "nbformat": 4,
  "nbformat_minor": 0,
  "metadata": {
    "colab": {
      "provenance": [],
      "authorship_tag": "ABX9TyP0AosSciLIf1LYwnTTtqyq",
      "include_colab_link": true
    },
    "kernelspec": {
      "name": "python3",
      "display_name": "Python 3"
    },
    "language_info": {
      "name": "python"
    }
  },
  "cells": [
    {
      "cell_type": "markdown",
      "metadata": {
        "id": "view-in-github",
        "colab_type": "text"
      },
      "source": [
        "<a href=\"https://colab.research.google.com/github/guilhermeventepanis/databaseuniversity/blob/main/corrida.ipynb\" target=\"_parent\"><img src=\"https://colab.research.google.com/assets/colab-badge.svg\" alt=\"Open In Colab\"/></a>"
      ]
    },
    {
      "cell_type": "code",
      "execution_count": null,
      "metadata": {
        "id": "EnFatCAkHUUQ"
      },
      "outputs": [],
      "source": [
        "import numpy as np\n",
        "#definindo o numero de corredores e voltar\n",
        "num_corredores = 2\n",
        "num_voltas = 2\n",
        "#criando um array para armazenar os tempos de cada volta\n",
        "tempos = np.zeros((num_corredores,num_voltas))\n",
        "#lendo os nomes e os tempos de cada volta de cada corredor\n",
        "for i in range(num_corredores):\n",
        "  nome_corredor = input(f\"digite o nome do corredor {i+1}:\")\n",
        "  for j in range (num_voltas):\n",
        "    tempo = float(input(f\"digite o tempo de volta {j+1} para o corredor {nome_corredor}:\"))\n",
        "    tempos[i,j] = tempo\n",
        "#calcule o melhor tempo de cada corredor\n",
        "melhores_tempos = np.min(tempos, axis=1)\n",
        "melhor_volta = np.argmin(tempos)\n",
        "#calcule a classificação final em ordem crescente\n",
        "classificação_final = np.argsort(np.sum(tempos,axis=1))\n",
        "#calcule a volta com a média mais rapida\n",
        "media_voltas = np.mean(tempos,axis=0)\n",
        "volta_media_rapida = np.argmin(media_voltas)\n",
        "#imprimir o resultados\n",
        "print(\"\\n---resultados---\")\n",
        "print(f\"a melhor volta da prova foi do corredor{melhor_volta//num_voltas + 1}, na volta{melhor_volta%num_voltas + 1}\")\n",
        "print(\"classificação final:\")\n",
        "for posicao , corredor_idx in enumerate (classificação_final):\n",
        "  print(f\"{posicao + 1}° lugar: corredor{corredor_idx + 1}\")\n",
        "print(f\"A volta com a média mais rápida foi a volta{volta_media_rapida + 1}\")"
      ]
    }
  ]
}